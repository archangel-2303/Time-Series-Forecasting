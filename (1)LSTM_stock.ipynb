{
  "nbformat": 4,
  "nbformat_minor": 0,
  "metadata": {
    "colab": {
      "provenance": []
    },
    "kernelspec": {
      "name": "python3",
      "display_name": "Python 3"
    },
    "language_info": {
      "name": "python"
    },
    "accelerator": "GPU",
    "gpuClass": "standard"
  },
  "cells": [
    {
      "cell_type": "code",
      "execution_count": null,
      "metadata": {
        "id": "ES3li7lqL54_"
      },
      "outputs": [],
      "source": [
        "import numpy as np\n",
        "import matplotlib.pyplot as plt\n",
        "import pandas as pd"
      ]
    },
    {
      "cell_type": "code",
      "source": [
        "df = pd.read_csv('/content/drive/MyDrive/Dataset/temprel.csv')\n",
        "df.head()"
      ],
      "metadata": {
        "colab": {
          "base_uri": "https://localhost:8080/",
          "height": 206
        },
        "id": "_k8MOR9VMetG",
        "outputId": "e9a27353-4931-47d1-89b3-c63c0b9da984"
      },
      "execution_count": null,
      "outputs": [
        {
          "output_type": "execute_result",
          "data": {
            "text/plain": [
              "    timestamp       open       high        low      close  adjusted_close  \\\n",
              "0  10-02-2023  2357.0000  2357.0000  2321.6001  2336.3501       2336.3501   \n",
              "1  09-02-2023  2357.3501  2370.8000  2334.0500  2355.3999       2355.3999   \n",
              "2  08-02-2023  2311.3000  2359.6001  2307.1499  2351.8000       2351.8000   \n",
              "3  07-02-2023  2312.0000  2327.0000  2293.1001        NaN       2305.8999   \n",
              "4  06-02-2023  2325.0000  2325.0000  2306.7500  2311.5000       2311.5000   \n",
              "\n",
              "   volume  dividend_amount  split_coefficient  \n",
              "0  127318              0.0                1.0  \n",
              "1   88852              0.0                1.0  \n",
              "2  268850              0.0                1.0  \n",
              "3  225094              0.0                1.0  \n",
              "4  206263              0.0                1.0  "
            ],
            "text/html": [
              "\n",
              "  <div id=\"df-8c3e73e8-d3a4-4f61-aee5-617a5aa7ed87\">\n",
              "    <div class=\"colab-df-container\">\n",
              "      <div>\n",
              "<style scoped>\n",
              "    .dataframe tbody tr th:only-of-type {\n",
              "        vertical-align: middle;\n",
              "    }\n",
              "\n",
              "    .dataframe tbody tr th {\n",
              "        vertical-align: top;\n",
              "    }\n",
              "\n",
              "    .dataframe thead th {\n",
              "        text-align: right;\n",
              "    }\n",
              "</style>\n",
              "<table border=\"1\" class=\"dataframe\">\n",
              "  <thead>\n",
              "    <tr style=\"text-align: right;\">\n",
              "      <th></th>\n",
              "      <th>timestamp</th>\n",
              "      <th>open</th>\n",
              "      <th>high</th>\n",
              "      <th>low</th>\n",
              "      <th>close</th>\n",
              "      <th>adjusted_close</th>\n",
              "      <th>volume</th>\n",
              "      <th>dividend_amount</th>\n",
              "      <th>split_coefficient</th>\n",
              "    </tr>\n",
              "  </thead>\n",
              "  <tbody>\n",
              "    <tr>\n",
              "      <th>0</th>\n",
              "      <td>10-02-2023</td>\n",
              "      <td>2357.0000</td>\n",
              "      <td>2357.0000</td>\n",
              "      <td>2321.6001</td>\n",
              "      <td>2336.3501</td>\n",
              "      <td>2336.3501</td>\n",
              "      <td>127318</td>\n",
              "      <td>0.0</td>\n",
              "      <td>1.0</td>\n",
              "    </tr>\n",
              "    <tr>\n",
              "      <th>1</th>\n",
              "      <td>09-02-2023</td>\n",
              "      <td>2357.3501</td>\n",
              "      <td>2370.8000</td>\n",
              "      <td>2334.0500</td>\n",
              "      <td>2355.3999</td>\n",
              "      <td>2355.3999</td>\n",
              "      <td>88852</td>\n",
              "      <td>0.0</td>\n",
              "      <td>1.0</td>\n",
              "    </tr>\n",
              "    <tr>\n",
              "      <th>2</th>\n",
              "      <td>08-02-2023</td>\n",
              "      <td>2311.3000</td>\n",
              "      <td>2359.6001</td>\n",
              "      <td>2307.1499</td>\n",
              "      <td>2351.8000</td>\n",
              "      <td>2351.8000</td>\n",
              "      <td>268850</td>\n",
              "      <td>0.0</td>\n",
              "      <td>1.0</td>\n",
              "    </tr>\n",
              "    <tr>\n",
              "      <th>3</th>\n",
              "      <td>07-02-2023</td>\n",
              "      <td>2312.0000</td>\n",
              "      <td>2327.0000</td>\n",
              "      <td>2293.1001</td>\n",
              "      <td>NaN</td>\n",
              "      <td>2305.8999</td>\n",
              "      <td>225094</td>\n",
              "      <td>0.0</td>\n",
              "      <td>1.0</td>\n",
              "    </tr>\n",
              "    <tr>\n",
              "      <th>4</th>\n",
              "      <td>06-02-2023</td>\n",
              "      <td>2325.0000</td>\n",
              "      <td>2325.0000</td>\n",
              "      <td>2306.7500</td>\n",
              "      <td>2311.5000</td>\n",
              "      <td>2311.5000</td>\n",
              "      <td>206263</td>\n",
              "      <td>0.0</td>\n",
              "      <td>1.0</td>\n",
              "    </tr>\n",
              "  </tbody>\n",
              "</table>\n",
              "</div>\n",
              "      <button class=\"colab-df-convert\" onclick=\"convertToInteractive('df-8c3e73e8-d3a4-4f61-aee5-617a5aa7ed87')\"\n",
              "              title=\"Convert this dataframe to an interactive table.\"\n",
              "              style=\"display:none;\">\n",
              "        \n",
              "  <svg xmlns=\"http://www.w3.org/2000/svg\" height=\"24px\"viewBox=\"0 0 24 24\"\n",
              "       width=\"24px\">\n",
              "    <path d=\"M0 0h24v24H0V0z\" fill=\"none\"/>\n",
              "    <path d=\"M18.56 5.44l.94 2.06.94-2.06 2.06-.94-2.06-.94-.94-2.06-.94 2.06-2.06.94zm-11 1L8.5 8.5l.94-2.06 2.06-.94-2.06-.94L8.5 2.5l-.94 2.06-2.06.94zm10 10l.94 2.06.94-2.06 2.06-.94-2.06-.94-.94-2.06-.94 2.06-2.06.94z\"/><path d=\"M17.41 7.96l-1.37-1.37c-.4-.4-.92-.59-1.43-.59-.52 0-1.04.2-1.43.59L10.3 9.45l-7.72 7.72c-.78.78-.78 2.05 0 2.83L4 21.41c.39.39.9.59 1.41.59.51 0 1.02-.2 1.41-.59l7.78-7.78 2.81-2.81c.8-.78.8-2.07 0-2.86zM5.41 20L4 18.59l7.72-7.72 1.47 1.35L5.41 20z\"/>\n",
              "  </svg>\n",
              "      </button>\n",
              "      \n",
              "  <style>\n",
              "    .colab-df-container {\n",
              "      display:flex;\n",
              "      flex-wrap:wrap;\n",
              "      gap: 12px;\n",
              "    }\n",
              "\n",
              "    .colab-df-convert {\n",
              "      background-color: #E8F0FE;\n",
              "      border: none;\n",
              "      border-radius: 50%;\n",
              "      cursor: pointer;\n",
              "      display: none;\n",
              "      fill: #1967D2;\n",
              "      height: 32px;\n",
              "      padding: 0 0 0 0;\n",
              "      width: 32px;\n",
              "    }\n",
              "\n",
              "    .colab-df-convert:hover {\n",
              "      background-color: #E2EBFA;\n",
              "      box-shadow: 0px 1px 2px rgba(60, 64, 67, 0.3), 0px 1px 3px 1px rgba(60, 64, 67, 0.15);\n",
              "      fill: #174EA6;\n",
              "    }\n",
              "\n",
              "    [theme=dark] .colab-df-convert {\n",
              "      background-color: #3B4455;\n",
              "      fill: #D2E3FC;\n",
              "    }\n",
              "\n",
              "    [theme=dark] .colab-df-convert:hover {\n",
              "      background-color: #434B5C;\n",
              "      box-shadow: 0px 1px 3px 1px rgba(0, 0, 0, 0.15);\n",
              "      filter: drop-shadow(0px 1px 2px rgba(0, 0, 0, 0.3));\n",
              "      fill: #FFFFFF;\n",
              "    }\n",
              "  </style>\n",
              "\n",
              "      <script>\n",
              "        const buttonEl =\n",
              "          document.querySelector('#df-8c3e73e8-d3a4-4f61-aee5-617a5aa7ed87 button.colab-df-convert');\n",
              "        buttonEl.style.display =\n",
              "          google.colab.kernel.accessAllowed ? 'block' : 'none';\n",
              "\n",
              "        async function convertToInteractive(key) {\n",
              "          const element = document.querySelector('#df-8c3e73e8-d3a4-4f61-aee5-617a5aa7ed87');\n",
              "          const dataTable =\n",
              "            await google.colab.kernel.invokeFunction('convertToInteractive',\n",
              "                                                     [key], {});\n",
              "          if (!dataTable) return;\n",
              "\n",
              "          const docLinkHtml = 'Like what you see? Visit the ' +\n",
              "            '<a target=\"_blank\" href=https://colab.research.google.com/notebooks/data_table.ipynb>data table notebook</a>'\n",
              "            + ' to learn more about interactive tables.';\n",
              "          element.innerHTML = '';\n",
              "          dataTable['output_type'] = 'display_data';\n",
              "          await google.colab.output.renderOutput(dataTable, element);\n",
              "          const docLink = document.createElement('div');\n",
              "          docLink.innerHTML = docLinkHtml;\n",
              "          element.appendChild(docLink);\n",
              "        }\n",
              "      </script>\n",
              "    </div>\n",
              "  </div>\n",
              "  "
            ]
          },
          "metadata": {},
          "execution_count": 3
        }
      ]
    },
    {
      "cell_type": "code",
      "source": [
        "# Create a new dataframe with only the 'Close' column\n",
        "data = df.filter(['close'])\n",
        "data2=data.dropna()\n",
        "# Convert the dataframe to a numpy array\n",
        "dataset = data2.values\n",
        "\n",
        "# Get the number of rows to train the model on\n",
        "training_data_len = int(np.ceil( len(dataset) * .6 ))\n",
        "\n",
        "window_size = 60\n",
        "training_data_len"
      ],
      "metadata": {
        "colab": {
          "base_uri": "https://localhost:8080/"
        },
        "id": "ZZwf5o7QMfBB",
        "outputId": "20d5b8fe-ee92-46ac-c885-9c2e2a4e3d26"
      },
      "execution_count": null,
      "outputs": [
        {
          "output_type": "execute_result",
          "data": {
            "text/plain": [
              "2617"
            ]
          },
          "metadata": {},
          "execution_count": 4
        }
      ]
    },
    {
      "cell_type": "code",
      "source": [
        "# Scale the data\n",
        "from sklearn.preprocessing import MinMaxScaler, StandardScaler\n",
        "\n",
        "# create scaler\n",
        "scaler = StandardScaler()\n",
        "# fit and transform in one step\n",
        "scaled_data = scaler.fit_transform(dataset)\n",
        "\n",
        "print ('scaled_data.shape',len(scaled_data))\n",
        "scaled_data"
      ],
      "metadata": {
        "colab": {
          "base_uri": "https://localhost:8080/"
        },
        "id": "XLlGjJd0MoeR",
        "outputId": "3f33f016-aba7-44df-b912-fd08f8a9ff43"
      },
      "execution_count": null,
      "outputs": [
        {
          "output_type": "stream",
          "name": "stdout",
          "text": [
            "scaled_data.shape 4361\n"
          ]
        },
        {
          "output_type": "execute_result",
          "data": {
            "text/plain": [
              "array([[ 1.66106031],\n",
              "       [ 1.69217017],\n",
              "       [ 1.68629124],\n",
              "       ...,\n",
              "       [-1.50747168],\n",
              "       [-1.50637278],\n",
              "       [-1.49135677]])"
            ]
          },
          "metadata": {},
          "execution_count": 5
        }
      ]
    },
    {
      "cell_type": "code",
      "source": [
        "# Create the training data set\n",
        "# Create the scaled training data set\n",
        "train_data = scaled_data[0:int(training_data_len)]\n",
        "# Split the data into x_train and y_train data sets\n",
        "x_train = []\n",
        "y_train = []\n",
        "\n",
        "for i in range(window_size, len(train_data)):\n",
        "    x_train.append(train_data[i-window_size:i, 0])\n",
        "    y_train.append(train_data[i, 0])\n",
        "    if i<= window_size + 1:\n",
        "        print('x_train',x_train)\n",
        "        print('\\ny_train',y_train)\n",
        "        print()\n",
        "\n",
        "# Convert the x_train and y_train to numpy arrays\n",
        "x_train, y_train = np.array(x_train), np.array(y_train)\n",
        "\n",
        "# Reshape the data\n",
        "x_train = np.reshape(x_train, (x_train.shape[0], x_train.shape[1], 1))\n",
        "print ('x_train.shape:',x_train.shape)"
      ],
      "metadata": {
        "colab": {
          "base_uri": "https://localhost:8080/"
        },
        "id": "sIKYQ6H4MqxD",
        "outputId": "2cbde035-5d2c-47e6-ae5d-90a9f36f1042"
      },
      "execution_count": null,
      "outputs": [
        {
          "output_type": "stream",
          "name": "stdout",
          "text": [
            "x_train [array([1.66106031, 1.69217017, 1.68629124, 1.62047811, 1.64913867,\n",
            "       1.64546423, 1.66383639, 1.6854747 , 1.66334646, 1.73716169,\n",
            "       1.78974671, 1.81334505, 1.83473823, 1.88111788, 1.88683366,\n",
            "       1.89328416, 1.83800439, 1.88275096, 1.96995728, 2.02295073,\n",
            "       2.08598763, 1.98914597, 1.95036032, 1.95795397, 2.02139931,\n",
            "       2.05103955, 2.0070282 , 1.9978013 , 2.00090415, 2.001884  ,\n",
            "       1.9683242 , 1.93084501, 2.05553052, 2.06614554, 2.12616124,\n",
            "       2.03462742, 2.0569188 , 2.11595449, 2.1311423 , 2.10648295,\n",
            "       2.17245923, 2.1731123 , 2.23574109, 2.22692262, 2.29191888,\n",
            "       2.29240897, 2.30784142, 2.27297532, 2.26807608, 2.11946577,\n",
            "       2.06312451, 2.02050111, 2.03332079, 2.08762071, 2.09374476,\n",
            "       2.07831232, 2.10256339, 2.12093555, 2.14281898, 2.04989656])]\n",
            "\n",
            "y_train [2.096520996416175]\n",
            "\n",
            "x_train [array([1.66106031, 1.69217017, 1.68629124, 1.62047811, 1.64913867,\n",
            "       1.64546423, 1.66383639, 1.6854747 , 1.66334646, 1.73716169,\n",
            "       1.78974671, 1.81334505, 1.83473823, 1.88111788, 1.88683366,\n",
            "       1.89328416, 1.83800439, 1.88275096, 1.96995728, 2.02295073,\n",
            "       2.08598763, 1.98914597, 1.95036032, 1.95795397, 2.02139931,\n",
            "       2.05103955, 2.0070282 , 1.9978013 , 2.00090415, 2.001884  ,\n",
            "       1.9683242 , 1.93084501, 2.05553052, 2.06614554, 2.12616124,\n",
            "       2.03462742, 2.0569188 , 2.11595449, 2.1311423 , 2.10648295,\n",
            "       2.17245923, 2.1731123 , 2.23574109, 2.22692262, 2.29191888,\n",
            "       2.29240897, 2.30784142, 2.27297532, 2.26807608, 2.11946577,\n",
            "       2.06312451, 2.02050111, 2.03332079, 2.08762071, 2.09374476,\n",
            "       2.07831232, 2.10256339, 2.12093555, 2.14281898, 2.04989656]), array([1.69217017, 1.68629124, 1.62047811, 1.64913867, 1.64546423,\n",
            "       1.66383639, 1.6854747 , 1.66334646, 1.73716169, 1.78974671,\n",
            "       1.81334505, 1.83473823, 1.88111788, 1.88683366, 1.89328416,\n",
            "       1.83800439, 1.88275096, 1.96995728, 2.02295073, 2.08598763,\n",
            "       1.98914597, 1.95036032, 1.95795397, 2.02139931, 2.05103955,\n",
            "       2.0070282 , 1.9978013 , 2.00090415, 2.001884  , 1.9683242 ,\n",
            "       1.93084501, 2.05553052, 2.06614554, 2.12616124, 2.03462742,\n",
            "       2.0569188 , 2.11595449, 2.1311423 , 2.10648295, 2.17245923,\n",
            "       2.1731123 , 2.23574109, 2.22692262, 2.29191888, 2.29240897,\n",
            "       2.30784142, 2.27297532, 2.26807608, 2.11946577, 2.06312451,\n",
            "       2.02050111, 2.03332079, 2.08762071, 2.09374476, 2.07831232,\n",
            "       2.10256339, 2.12093555, 2.14281898, 2.04989656, 2.096521  ])]\n",
            "\n",
            "y_train [2.096520996416175, 2.1016650358547304]\n",
            "\n",
            "x_train.shape: (2557, 60, 1)\n"
          ]
        }
      ]
    },
    {
      "cell_type": "code",
      "source": [
        "from keras.models import Sequential\n",
        "from keras.layers import Dense, LSTM\n",
        "import tensorflow as tf\n",
        "\n",
        "def build_LSTM_model():\n",
        "    input = tf.keras.layers.Input(\n",
        "        shape=(x_train.shape[1], 1), name =\"input\"\n",
        "    )\n",
        "    x = tf.keras.layers.LSTM(128, return_sequences=True)(input)\n",
        "\n",
        "    x = tf.keras.layers.LSTM(64, return_sequences=False, dropout=0.5)(x)\n",
        "\n",
        "    x = tf.keras.layers.Dense(25 , activation=\"relu\", name =\"dense_1\")(x)\n",
        "\n",
        "    output = tf.keras.layers.Dense(1, name=\"last_dense\")(x)\n",
        "\n",
        "    model = tf.keras.Model(inputs=input, outputs=output)\n",
        "\n",
        "    return model\n",
        "\n",
        "LSTM_model = build_LSTM_model()\n",
        "LSTM_model.summary()"
      ],
      "metadata": {
        "colab": {
          "base_uri": "https://localhost:8080/"
        },
        "id": "oz3H8uoyMsgb",
        "outputId": "020472b3-392e-4eb9-be25-097cf9623cee"
      },
      "execution_count": null,
      "outputs": [
        {
          "output_type": "stream",
          "name": "stdout",
          "text": [
            "Model: \"model\"\n",
            "_________________________________________________________________\n",
            " Layer (type)                Output Shape              Param #   \n",
            "=================================================================\n",
            " input (InputLayer)          [(None, 60, 1)]           0         \n",
            "                                                                 \n",
            " lstm_3 (LSTM)               (None, 60, 128)           66560     \n",
            "                                                                 \n",
            " lstm_4 (LSTM)               (None, 64)                49408     \n",
            "                                                                 \n",
            " dense_1 (Dense)             (None, 25)                1625      \n",
            "                                                                 \n",
            " last_dense (Dense)          (None, 1)                 26        \n",
            "                                                                 \n",
            "=================================================================\n",
            "Total params: 117,619\n",
            "Trainable params: 117,619\n",
            "Non-trainable params: 0\n",
            "_________________________________________________________________\n"
          ]
        }
      ]
    },
    {
      "cell_type": "code",
      "source": [
        "epochs = 50\n",
        "batch_size = 500\n",
        "early_stopping_patience = 17\n",
        "\n",
        "\n",
        "# Compile the model\n",
        "LSTM_model.compile(optimizer='adam', loss='mean_squared_error')\n",
        "\n",
        "# Train the model\n",
        "history = LSTM_model.fit(x_train, y_train, batch_size=batch_size, epochs=epochs)"
      ],
      "metadata": {
        "colab": {
          "base_uri": "https://localhost:8080/"
        },
        "id": "Tuoqp9fRM_1B",
        "outputId": "56f79286-d7ef-4a65-b0d1-3c193f0c0830"
      },
      "execution_count": null,
      "outputs": [
        {
          "output_type": "stream",
          "name": "stdout",
          "text": [
            "Epoch 1/50\n",
            "6/6 [==============================] - 12s 26ms/step - loss: 0.3827\n",
            "Epoch 2/50\n",
            "6/6 [==============================] - 0s 24ms/step - loss: 0.0797\n",
            "Epoch 3/50\n",
            "6/6 [==============================] - 0s 25ms/step - loss: 0.0435\n",
            "Epoch 4/50\n",
            "6/6 [==============================] - 0s 21ms/step - loss: 0.0290\n",
            "Epoch 5/50\n",
            "6/6 [==============================] - 0s 23ms/step - loss: 0.0230\n",
            "Epoch 6/50\n",
            "6/6 [==============================] - 0s 19ms/step - loss: 0.0198\n",
            "Epoch 7/50\n",
            "6/6 [==============================] - 0s 21ms/step - loss: 0.0173\n",
            "Epoch 8/50\n",
            "6/6 [==============================] - 0s 20ms/step - loss: 0.0147\n",
            "Epoch 9/50\n",
            "6/6 [==============================] - 0s 28ms/step - loss: 0.0143\n",
            "Epoch 10/50\n",
            "6/6 [==============================] - 0s 18ms/step - loss: 0.0134\n",
            "Epoch 11/50\n",
            "6/6 [==============================] - 0s 17ms/step - loss: 0.0126\n",
            "Epoch 12/50\n",
            "6/6 [==============================] - 0s 17ms/step - loss: 0.0131\n",
            "Epoch 13/50\n",
            "6/6 [==============================] - 0s 18ms/step - loss: 0.0126\n",
            "Epoch 14/50\n",
            "6/6 [==============================] - 0s 25ms/step - loss: 0.0123\n",
            "Epoch 15/50\n",
            "6/6 [==============================] - 0s 20ms/step - loss: 0.0120\n",
            "Epoch 16/50\n",
            "6/6 [==============================] - 0s 20ms/step - loss: 0.0117\n",
            "Epoch 17/50\n",
            "6/6 [==============================] - 0s 18ms/step - loss: 0.0126\n",
            "Epoch 18/50\n",
            "6/6 [==============================] - 0s 15ms/step - loss: 0.0115\n",
            "Epoch 19/50\n",
            "6/6 [==============================] - 0s 15ms/step - loss: 0.0110\n",
            "Epoch 20/50\n",
            "6/6 [==============================] - 0s 15ms/step - loss: 0.0109\n",
            "Epoch 21/50\n",
            "6/6 [==============================] - 0s 14ms/step - loss: 0.0107\n",
            "Epoch 22/50\n",
            "6/6 [==============================] - 0s 15ms/step - loss: 0.0107\n",
            "Epoch 23/50\n",
            "6/6 [==============================] - 0s 14ms/step - loss: 0.0105\n",
            "Epoch 24/50\n",
            "6/6 [==============================] - 0s 14ms/step - loss: 0.0105\n",
            "Epoch 25/50\n",
            "6/6 [==============================] - 0s 14ms/step - loss: 0.0109\n",
            "Epoch 26/50\n",
            "6/6 [==============================] - 0s 14ms/step - loss: 0.0108\n",
            "Epoch 27/50\n",
            "6/6 [==============================] - 0s 15ms/step - loss: 0.0104\n",
            "Epoch 28/50\n",
            "6/6 [==============================] - 0s 14ms/step - loss: 0.0104\n",
            "Epoch 29/50\n",
            "6/6 [==============================] - 0s 15ms/step - loss: 0.0102\n",
            "Epoch 30/50\n",
            "6/6 [==============================] - 0s 15ms/step - loss: 0.0101\n",
            "Epoch 31/50\n",
            "6/6 [==============================] - 0s 15ms/step - loss: 0.0099\n",
            "Epoch 32/50\n",
            "6/6 [==============================] - 0s 15ms/step - loss: 0.0096\n",
            "Epoch 33/50\n",
            "6/6 [==============================] - 0s 14ms/step - loss: 0.0096\n",
            "Epoch 34/50\n",
            "6/6 [==============================] - 0s 14ms/step - loss: 0.0102\n",
            "Epoch 35/50\n",
            "6/6 [==============================] - 0s 14ms/step - loss: 0.0101\n",
            "Epoch 36/50\n",
            "6/6 [==============================] - 0s 15ms/step - loss: 0.0095\n",
            "Epoch 37/50\n",
            "6/6 [==============================] - 0s 14ms/step - loss: 0.0095\n",
            "Epoch 38/50\n",
            "6/6 [==============================] - 0s 14ms/step - loss: 0.0093\n",
            "Epoch 39/50\n",
            "6/6 [==============================] - 0s 14ms/step - loss: 0.0090\n",
            "Epoch 40/50\n",
            "6/6 [==============================] - 0s 14ms/step - loss: 0.0098\n",
            "Epoch 41/50\n",
            "6/6 [==============================] - 0s 14ms/step - loss: 0.0091\n",
            "Epoch 42/50\n",
            "6/6 [==============================] - 0s 15ms/step - loss: 0.0090\n",
            "Epoch 43/50\n",
            "6/6 [==============================] - 0s 16ms/step - loss: 0.0092\n",
            "Epoch 44/50\n",
            "6/6 [==============================] - 0s 15ms/step - loss: 0.0088\n",
            "Epoch 45/50\n",
            "6/6 [==============================] - 0s 15ms/step - loss: 0.0091\n",
            "Epoch 46/50\n",
            "6/6 [==============================] - 0s 15ms/step - loss: 0.0094\n",
            "Epoch 47/50\n",
            "6/6 [==============================] - 0s 15ms/step - loss: 0.0086\n",
            "Epoch 48/50\n",
            "6/6 [==============================] - 0s 14ms/step - loss: 0.0090\n",
            "Epoch 49/50\n",
            "6/6 [==============================] - 0s 14ms/step - loss: 0.0084\n",
            "Epoch 50/50\n",
            "6/6 [==============================] - 0s 14ms/step - loss: 0.0085\n"
          ]
        }
      ]
    },
    {
      "cell_type": "code",
      "source": [
        "# list all data in history\n",
        "print(history.history.keys())\n",
        "\n",
        "# summarize history for loss\n",
        "\n",
        "fig, ax = plt.subplots()\n",
        "plt.plot(history.history['loss'])\n",
        "plt.title('model loss')\n",
        "plt.ylabel('loss')\n",
        "plt.xlabel('epoch')\n",
        "plt.legend(['train'], loc='upper left')\n",
        "plt.show()"
      ],
      "metadata": {
        "colab": {
          "base_uri": "https://localhost:8080/",
          "height": 489
        },
        "id": "1-8paGjpNAHh",
        "outputId": "598cbc6d-1a6b-4713-c035-4f213aa1c396"
      },
      "execution_count": null,
      "outputs": [
        {
          "output_type": "stream",
          "name": "stdout",
          "text": [
            "dict_keys(['loss'])\n"
          ]
        },
        {
          "output_type": "display_data",
          "data": {
            "text/plain": [
              "<Figure size 640x480 with 1 Axes>"
            ],
            "image/png": "[encoded data removed]"
          },
          "metadata": {}
        }
      ]
    },
    {
      "cell_type": "code",
      "source": [
        "# Create the testing data set\n",
        "# Create a new array containing scaled values from index 1543 to 2002\n",
        "test_data = scaled_data[training_data_len - window_size: ]\n",
        "print ('len(test_data):', len(test_data))\n",
        "\n",
        "# Create the data sets x_test and y_test\n",
        "x_test = []\n",
        "y_test = dataset[training_data_len:, :]\n",
        "for i in range(window_size, len(test_data)):\n",
        "    x_test.append(test_data[i-window_size:i, 0])\n",
        "\n",
        "# Convert the data to a numpy array\n",
        "x_test = np.array(x_test)\n",
        "\n",
        "# Reshape the data\n",
        "x_test = np.reshape(x_test, (x_test.shape[0], x_test.shape[1], 1 ))\n",
        "\n",
        "# Get the models predicted price values\n",
        "predictions = LSTM_model.predict(x_test)\n",
        "predictions = scaler.inverse_transform(predictions)\n"
      ],
      "metadata": {
        "colab": {
          "base_uri": "https://localhost:8080/"
        },
        "id": "xqFzzZm-NG9E",
        "outputId": "33b51564-a64d-4260-bfca-92267e5fa2be"
      },
      "execution_count": null,
      "outputs": [
        {
          "output_type": "stream",
          "name": "stdout",
          "text": [
            "len(test_data): 1804\n",
            "55/55 [==============================] - 2s 9ms/step\n"
          ]
        }
      ]
    },
    {
      "cell_type": "code",
      "source": [
        "# Plot the data\n",
        "train = data2[:training_data_len]\n",
        "test = data2[training_data_len:]\n",
        "test['Predictions'] = predictions\n",
        "\n",
        "# Visualize the data\n",
        "plt.figure()\n",
        "plt.title('Model')\n",
        "plt.ylabel('Close Price ', fontsize=18)\n",
        "#plt.plot(train['Close'])\n",
        "plt.plot(test[['close', 'Predictions']])\n",
        "plt.legend(['Close', 'Predictions'], loc='upper right')\n",
        "plt.show()"
      ],
      "metadata": {
        "id": "zEXOuhrENIKl",
        "outputId": "b210e6a6-31e4-4e0a-bd5b-797f4ea7845a",
        "colab": {
          "base_uri": "https://localhost:8080/",
          "height": 556
        }
      },
      "execution_count": null,
      "outputs": [
        {
          "output_type": "stream",
          "name": "stderr",
          "text": [
            "<ipython-input-13-62c251383012>:4: SettingWithCopyWarning: \n",
            "A value is trying to be set on a copy of a slice from a DataFrame.\n",
            "Try using .loc[row_indexer,col_indexer] = value instead\n",
            "\n",
            "See the caveats in the documentation: https://pandas.pydata.org/pandas-docs/stable/user_guide/indexing.html#returning-a-view-versus-a-copy\n",
            "  test['Predictions'] = predictions\n"
          ]
        },
        {
          "output_type": "display_data",
          "data": {
            "text/plain": [
              "<Figure size 640x480 with 1 Axes>"
            ],
            "image/png": "[encoded data removed]"
          },
          "metadata": {}
        }
      ]
    },
    {
      "cell_type": "code",
      "source": [
        "from sklearn.metrics import mean_absolute_error, mean_squared_error, r2_score, mean_absolute_percentage_error\n",
        "mae = mean_absolute_error(test['Predictions'],y_test)\n",
        "mse = mean_squared_error(test['Predictions'], y_test)\n",
        "rmse = np.sqrt(mse)\n",
        "mape = mean_absolute_percentage_error(test['Predictions'],y_test)\n",
        "r = r2_score(test['Predictions'], y_test)"
      ],
      "metadata": {
        "id": "UKLBtWvWNJ7u"
      },
      "execution_count": null,
      "outputs": []
    },
    {
      "cell_type": "code",
      "source": [
        "print('Mean Absolute Error:', mae)\n",
        "print('Mean Squared Error:', mse)\n",
        "print('Root Mean Squared Error:', rmse)\n",
        "print('Mean Absolute Percentage Error:', mape)\n",
        "print('R-Squared Score = {}'.format(r))"
      ],
      "metadata": {
        "id": "A6tM3aYDNL2y",
        "outputId": "3a367d6f-8ef8-46bc-df33-5f763a9b1c91",
        "colab": {
          "base_uri": "https://localhost:8080/"
        }
      },
      "execution_count": null,
      "outputs": [
        {
          "output_type": "stream",
          "name": "stdout",
          "text": [
            "Mean Absolute Error: 50.648016453118274\n",
            "Mean Squared Error: 7031.534419199616\n",
            "Root Mean Squared Error: 83.8542450875304\n",
            "Mean Absolute Percentage Error: 0.04133571571098982\n",
            "R-Squared Score = 0.9832342785410109\n"
          ]
        }
      ]
    },
    {
      "cell_type": "code",
      "source": [],
      "metadata": {
        "id": "iqFGtv_fNNJp"
      },
      "execution_count": null,
      "outputs": []
    }
  ]
}